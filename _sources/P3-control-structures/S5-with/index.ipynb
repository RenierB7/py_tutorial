{
 "cells": [
  {
   "cell_type": "markdown",
   "metadata": {},
   "source": [
    "# Context Managers (```with```)\n",
    "\n",
    "```{contents}\n",
    ":local:\n",
    "```\n",
    "\n"
   ]
  }
 ],
 "metadata": {
  "kernelspec": {
   "display_name": "Python 3.10.7 64-bit",
   "language": "python",
   "name": "python3"
  },
  "language_info": {
   "name": "python",
   "version": "3.10.7"
  },
  "orig_nbformat": 4,
  "vscode": {
   "interpreter": {
    "hash": "11f4a0e78a349ca45f4a5927a3f7bcfe77e5bc2d0279dc8f6f2c668752771856"
   }
  }
 },
 "nbformat": 4,
 "nbformat_minor": 2
}
