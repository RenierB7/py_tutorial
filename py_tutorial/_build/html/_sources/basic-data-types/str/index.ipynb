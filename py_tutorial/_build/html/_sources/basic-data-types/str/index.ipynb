{
 "cells": [
  {
   "cell_type": "markdown",
   "metadata": {},
   "source": [
    "# Strings (```str```)\n",
    "\n",
    "Strings are how python stores text. They are effectively a list of individual characters.\n",
    "\n",
    "Table of Contents:\n",
    " - "
   ]
  }
 ],
 "metadata": {
  "language_info": {
   "name": "python"
  },
  "orig_nbformat": 4
 },
 "nbformat": 4,
 "nbformat_minor": 2
}
