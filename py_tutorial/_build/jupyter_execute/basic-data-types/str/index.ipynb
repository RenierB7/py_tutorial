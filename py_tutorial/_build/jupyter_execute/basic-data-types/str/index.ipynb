{
 "cells": [
  {
   "cell_type": "markdown",
   "metadata": {},
   "source": [
    "# Strings (```str```)\n",
    "\n",
    "Strings are how python stores text. They are effectively a list of individual characters.\n",
    "\n",
    "Table of Contents:\n",
    " - Manipulation\n",
    " - Attributes"
   ]
  },
  {
   "cell_type": "code",
   "execution_count": 1,
   "metadata": {},
   "outputs": [
    {
     "name": "stdout",
     "output_type": "stream",
     "text": [
      "Hello, World!\n",
      "<class 'str'>\n"
     ]
    }
   ],
   "source": [
    "x = \"Hello, World!\"\n",
    "print(x)\n",
    "x = str(10)\n",
    "print(type(x))"
   ]
  },
  {
   "cell_type": "markdown",
   "metadata": {},
   "source": [
    "## Manipulation\n",
    "\n",
    "Strings can be mainpulated in many ways.\n",
    "\n",
    "### Indexed access\n",
    "\n",
    "You can access strings the same way you would a list."
   ]
  },
  {
   "cell_type": "code",
   "execution_count": 2,
   "metadata": {},
   "outputs": [
    {
     "name": "stdout",
     "output_type": "stream",
     "text": [
      "l\n",
      "Hel\n",
      "d!\n"
     ]
    }
   ],
   "source": [
    "my_str = \"Hello, World!\"\n",
    "print(my_str[2])\n",
    "print(my_str[:3])\n",
    "print(my_str[-2:])"
   ]
  },
  {
   "cell_type": "markdown",
   "metadata": {},
   "source": [
    "### Concatenation\n",
    "\n",
    "Strings can be concatenated (added together) using the ```+``` operator."
   ]
  },
  {
   "cell_type": "code",
   "execution_count": 3,
   "metadata": {},
   "outputs": [
    {
     "name": "stdout",
     "output_type": "stream",
     "text": [
      "Hello, \n",
      "World!\n",
      "Hello, World!\n"
     ]
    }
   ],
   "source": [
    "part1 = \"Hello, \"\n",
    "part2 = \"World!\"\n",
    "whole = part1 + part2\n",
    "print(part1)\n",
    "print(part2)\n",
    "print(whole)"
   ]
  },
  {
   "cell_type": "markdown",
   "metadata": {},
   "source": [
    "Strings can also be \"multiplied\" using the ```*``` operator."
   ]
  },
  {
   "cell_type": "code",
   "execution_count": 4,
   "metadata": {},
   "outputs": [
    {
     "name": "stdout",
     "output_type": "stream",
     "text": [
      "HoHoHoHo\n"
     ]
    }
   ],
   "source": [
    "my_str = \"Ho\"\n",
    "mult_str = my_str * 4\n",
    "print(mult_str)"
   ]
  },
  {
   "cell_type": "markdown",
   "metadata": {},
   "source": [
    "There are also several *methods* which can be used on strings, such as:"
   ]
  },
  {
   "cell_type": "markdown",
   "metadata": {},
   "source": [
    "#### Justifiying"
   ]
  },
  {
   "cell_type": "code",
   "execution_count": 5,
   "metadata": {},
   "outputs": [
    {
     "name": "stdout",
     "output_type": "stream",
     "text": [
      "Right justified:\n",
      "                 Hello, World!\n",
      "Centered:\n",
      "        Hello, World!         \n",
      "Left justfied:\n",
      "Hello, World!                 \n",
      "Right justfied using \"#\"\n",
      "#################Hello, World!\n"
     ]
    }
   ],
   "source": [
    "my_str = \"Hello, World!\"\n",
    "\n",
    "print(\"Right justified:\")\n",
    "print(my_str.rjust(30))\n",
    "\n",
    "print(\"Centered:\")\n",
    "print(my_str.center(30))\n",
    "\n",
    "print(\"Left justfied:\")\n",
    "print(my_str.ljust(30))\n",
    "\n",
    "print(\"Right justfied using \\\"#\\\"\")\n",
    "print(my_str.rjust(30,\"#\"))"
   ]
  },
  {
   "cell_type": "markdown",
   "metadata": {},
   "source": [
    "#### Formatting"
   ]
  },
  {
   "cell_type": "code",
   "execution_count": 6,
   "metadata": {},
   "outputs": [
    {
     "name": "stdout",
     "output_type": "stream",
     "text": [
      "Hello Jacob\n",
      "Hello Jacob\n"
     ]
    }
   ],
   "source": [
    "print(\"Hello {}\".format(\"Jacob\"))\n",
    "\n",
    "print(\"Hello %s\"%\"Jacob\")"
   ]
  },
  {
   "cell_type": "markdown",
   "metadata": {},
   "source": [
    "#### ```f-strings```\n",
    "\n",
    "f-strings are a powerful string manipulation feature of python, allowing simple and readable string substitutions and formatting.\n",
    "\n",
    "To create an f-string you simply put an 'f' in front of the opening quote of a string.\n",
    "\n",
    "i.e.)\n",
    "```python\n",
    "name = \"Kyle\"\n",
    "my_fstring = f\"Hello {name}\"\n",
    "```\n",
    "\n",
    "The value of ```my_fstring``` is now ```\"Hello Kyle\"```.\n",
    "\n",
    "The f-string evaulates the expressions in the braces (curly brackets ```{}```) and substitutes it into the string. This allows you to put almost anything into an f-string.\n",
    "\n",
    "For example:"
   ]
  },
  {
   "cell_type": "code",
   "execution_count": 7,
   "metadata": {},
   "outputs": [
    {
     "name": "stdout",
     "output_type": "stream",
     "text": [
      "A random number between 1 and 6: 2.\n",
      "The value of x*y is 42.\n",
      "The average of x and y is 6.5.\n",
      "The larger of 6 and 7 is 7.\n"
     ]
    }
   ],
   "source": [
    "import random\n",
    "print(f\"A random number between 1 and 6: {random.randint(1,6)}.\")\n",
    "\n",
    "x = 6\n",
    "y = 7\n",
    "print(f\"The value of x*y is {x*y}.\")\n",
    "print(f\"The average of x and y is {(x+y)/2}.\")\n",
    "print(f\"The larger of {x} and {y} is {max(x,y)}.\")"
   ]
  },
  {
   "cell_type": "markdown",
   "metadata": {},
   "source": [
    "f-strings also allow you to format the data returned from the expression in braces, using format strings.\n",
    "\n",
    "Format strings are created by placing a colon (```:```) after the expression, and providing a format identifier after.\n",
    "\n",
    "Some basic formats incude:\n",
    " - ```:<5``` : Left justify the data in a width of 5\n",
    " - ```:0<5```: Left justfiy using zeros\n",
    " - ```:>5``` : Right justify\n",
    " - ```:^10```: Center the value\n",
    " - ```:.5f```: Format the value as a flaoting-point, and dispaly with 5 decimal points\n",
    "\n",
    "Some examples:"
   ]
  },
  {
   "cell_type": "code",
   "execution_count": 8,
   "metadata": {},
   "outputs": [
    {
     "name": "stdout",
     "output_type": "stream",
     "text": [
      "x with no formatting: 5\n",
      "x aligned:\n",
      "|5                   |\n",
      "|         5          |\n",
      "|                   5|\n",
      "\n",
      "y with no formatting: 4.3472\n",
      "y aligned:\n",
      "|4.3472              |\n",
      "|       4.3472       |\n",
      "|              4.3472|\n",
      "\n",
      "y to two decimal places: 4.35\n"
     ]
    }
   ],
   "source": [
    "x = 5\n",
    "y = 4.3472\n",
    "\n",
    "print(f\"x with no formatting: {x}\")\n",
    "print(\"x aligned:\")\n",
    "print(\"|\" + f\"{x:<20}\" + \"|\")\n",
    "print(\"|\" + f\"{x:^20}\" + \"|\")\n",
    "print(\"|\" + f\"{x:>20}\" + \"|\")\n",
    "print()\n",
    "print(f\"y with no formatting: {y}\")\n",
    "print(\"y aligned:\")\n",
    "print(\"|\" + f\"{y:<20}\" + \"|\")\n",
    "print(\"|\" + f\"{y:^20}\" + \"|\")\n",
    "print(\"|\" + f\"{y:>20}\" + \"|\")\n",
    "print()\n",
    "print(f\"y to two decimal places: {y:.2f}\")"
   ]
  },
  {
   "cell_type": "markdown",
   "metadata": {},
   "source": [
    "### Methods\n",
    "\n",
    "Strings have several useful and commonly used methods such as:\n",
    "\n",
    "#### ```.join()```\n",
    "\n",
    "Takes an iterable as an argument, and returns a string with each of those items joined using the string it's used with.\n",
    "\n",
    "i.e.)"
   ]
  },
  {
   "cell_type": "code",
   "execution_count": 9,
   "metadata": {},
   "outputs": [
    {
     "name": "stdout",
     "output_type": "stream",
     "text": [
      "a#b#c#d#e\n",
      "a.b.c.d.e\n",
      "a <your string goes here> b <your string goes here> c <your string goes here> d <your string goes here> e\n"
     ]
    }
   ],
   "source": [
    "my_list = ['a', 'b', 'c', 'd', 'e']\n",
    "\n",
    "print('#'.join(my_list))\n",
    "print('.'.join(my_list))\n",
    "print(' <your string goes here> '.join(my_list))"
   ]
  },
  {
   "cell_type": "markdown",
   "metadata": {},
   "source": [
    "#### ```.replace()```\n",
    "\n",
    "When used on a string, returns a new string where all occurences of its first argument are replaced with its second. This does not modify the original string in any way.\n",
    "\n",
    "i.e.)"
   ]
  },
  {
   "cell_type": "code",
   "execution_count": 10,
   "metadata": {},
   "outputs": [
    {
     "name": "stdout",
     "output_type": "stream",
     "text": [
      "Hello, World!\n",
      "Hello, World?\n",
      "He##o, Wor#d!\n",
      "Hello, World!\n"
     ]
    }
   ],
   "source": [
    "my_str = \"Hello, World!\"\n",
    "print(my_str)\n",
    "print(my_str.replace(\"!\", \"?\"))\n",
    "print(my_str.replace(\"l\", \"#\"))\n",
    "# Printing the original string will show that no changes have been made to it\n",
    "print(my_str)"
   ]
  },
  {
   "cell_type": "markdown",
   "metadata": {},
   "source": [
    "#### ```.startswith()``` & ```.endswith()```\n",
    "\n",
    "These functions check whether a string starts or ends with a specified string.\n",
    "\n",
    "i.e.)"
   ]
  },
  {
   "cell_type": "code",
   "execution_count": 11,
   "metadata": {},
   "outputs": [
    {
     "name": "stdout",
     "output_type": "stream",
     "text": [
      "True\n",
      "False\n",
      "True\n",
      "False\n"
     ]
    }
   ],
   "source": [
    "my_str = \"Hello, World!\"\n",
    "\n",
    "print(my_str.startswith(\"Hel\"))\n",
    "print(my_str.startswith(\"foo\"))\n",
    "\n",
    "print(my_str.endswith(\"rld!\"))\n",
    "print(my_str.endswith(\"bar\"))"
   ]
  },
  {
   "cell_type": "markdown",
   "metadata": {},
   "source": [
    "#### ```.lower()``` & ```.upper()```\n",
    "\n",
    "These functions return new strings that have been converted to all upper-/lowercase letters\n",
    "\n",
    "i.e.)"
   ]
  },
  {
   "cell_type": "code",
   "execution_count": 12,
   "metadata": {},
   "outputs": [
    {
     "name": "stdout",
     "output_type": "stream",
     "text": [
      "hello, world!\n",
      "HELLO, WORLD!\n"
     ]
    }
   ],
   "source": [
    "my_str = \"Hello, World!\"\n",
    "\n",
    "print(my_str.lower())\n",
    "print(my_str.upper())"
   ]
  }
 ],
 "metadata": {
  "kernelspec": {
   "display_name": "Python 3.10.7 64-bit",
   "language": "python",
   "name": "python3"
  },
  "language_info": {
   "codemirror_mode": {
    "name": "ipython",
    "version": 3
   },
   "file_extension": ".py",
   "mimetype": "text/x-python",
   "name": "python",
   "nbconvert_exporter": "python",
   "pygments_lexer": "ipython3",
   "version": "3.10.7"
  },
  "vscode": {
   "interpreter": {
    "hash": "11f4a0e78a349ca45f4a5927a3f7bcfe77e5bc2d0279dc8f6f2c668752771856"
   }
  }
 },
 "nbformat": 4,
 "nbformat_minor": 2
}