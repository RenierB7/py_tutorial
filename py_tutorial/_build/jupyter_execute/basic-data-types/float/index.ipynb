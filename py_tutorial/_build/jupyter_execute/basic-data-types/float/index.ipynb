{
 "cells": [
  {
   "cell_type": "markdown",
   "metadata": {},
   "source": [
    "# Floats (```float```)\n",
    "\n",
    "Flaots represent decimal numbers. They are not exact, adn only approximate the value, although the approximation is extremely close for most numbers. This can result in equality checks (```==```) failing even though the two numbers should be identical, if the process to obtain them was different."
   ]
  },
  {
   "cell_type": "code",
   "execution_count": 1,
   "metadata": {},
   "outputs": [
    {
     "name": "stdout",
     "output_type": "stream",
     "text": [
      "0.01\n",
      "0.01\n",
      "0.01\n",
      "0.01\n",
      "0.19444444444444445\n",
      "0.19444444444444442\n"
     ]
    }
   ],
   "source": [
    "x = 0.01\n",
    "print(x)\n",
    "x = 1e-2\n",
    "print(x)\n",
    "x = 1/100\n",
    "print(x)\n",
    "x = float(\"0.01\")\n",
    "print(x)\n",
    "# 7/36 is 0.19444 recurring, but due to floating-point errors the 16th decimal place is wrong\n",
    "x = 7/36\n",
    "print(x)\n",
    "# Again, although both these numbers should be 7/36, there is a difference in the final result due to floating-point error\n",
    "x = 72/36\n",
    "x -= 65/36\n",
    "print(x)\n"
   ]
  },
  {
   "cell_type": "markdown",
   "metadata": {},
   "source": [
    "## Methods\n",
    "\n",
    "Floats, like ints, have few useful methods as they are so simple, however there are a few."
   ]
  },
  {
   "cell_type": "markdown",
   "metadata": {},
   "source": [
    "### ```.as_integer_ratio()```\n",
    "\n",
    "Returns the integer ratio (fraction) to which the float is exactly equal.\n",
    "\n",
    "i.e.)"
   ]
  },
  {
   "cell_type": "code",
   "execution_count": 2,
   "metadata": {},
   "outputs": [
    {
     "name": "stdout",
     "output_type": "stream",
     "text": [
      "(1, 4)\n",
      "(8106479329266893, 18014398509481984)\n"
     ]
    }
   ],
   "source": [
    "x = 0.25\n",
    "print(x.as_integer_ratio())\n",
    "# Again due to floating point error, this can have unexpected effects. The previous is a power of two (2^-2), so it can remain exact.\n",
    "x = 0.45 # 9/20\n",
    "print(x.as_integer_ratio())"
   ]
  }
 ],
 "metadata": {
  "kernelspec": {
   "display_name": "Python 3.10.7 64-bit",
   "language": "python",
   "name": "python3"
  },
  "language_info": {
   "codemirror_mode": {
    "name": "ipython",
    "version": 3
   },
   "file_extension": ".py",
   "mimetype": "text/x-python",
   "name": "python",
   "nbconvert_exporter": "python",
   "pygments_lexer": "ipython3",
   "version": "3.10.7"
  },
  "vscode": {
   "interpreter": {
    "hash": "11f4a0e78a349ca45f4a5927a3f7bcfe77e5bc2d0279dc8f6f2c668752771856"
   }
  }
 },
 "nbformat": 4,
 "nbformat_minor": 2
}