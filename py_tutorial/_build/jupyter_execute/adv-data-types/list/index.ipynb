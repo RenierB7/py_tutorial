{
 "cells": [
  {
   "cell_type": "markdown",
   "metadata": {},
   "source": [
    "# Lists (```list```)\n",
    "\n",
    "Lists are collections of elements.\n",
    "\n",
    "Lists are:\n",
    " - Mutable\n",
    "   - The same list can have its elements changed and the list is still the same list\n",
    " - Ordered\n",
    "   - The items in a list have an index, and maintain that index\n",
    " - Non-Unique\n",
    "   - A list can hold duplicate values\n"
   ]
  },
  {
   "cell_type": "code",
   "execution_count": 1,
   "metadata": {},
   "outputs": [
    {
     "name": "stdout",
     "output_type": "stream",
     "text": [
      "[1, 2, 3, 4, 5]\n"
     ]
    }
   ],
   "source": [
    "my_list = [1, 2, 3, 4, 5]\n",
    "print(my_list)"
   ]
  },
  {
   "cell_type": "markdown",
   "metadata": {},
   "source": [
    "## Comprehensions\n",
    "\n",
    "List comprehensions are a shorthand for creating lists. They are structured as follows:\n",
    "```python\n",
    "my_list = [<expression> for <variable> in <iterable> [if <condition>]]\n",
    "```\n",
    "where:\n",
    "|Symbol        |Meaning                                                       |\n",
    "|-------------:|:-------------------------------------------------------------|\n",
    "|\\<expression\\>| The expression to evaluate and add to the list               |\n",
    "|\\<variable\\>  | The dummy vaiable used to access the elements of \\<iterable\\>|\n",
    "|\\<iterable\\>  | The base iterable from which to draw values                  |\n",
    "|\\<condition\\> | An optional condition to filter values                       |\n",
    "\n",
    "For example:"
   ]
  },
  {
   "cell_type": "code",
   "execution_count": 2,
   "metadata": {},
   "outputs": [
    {
     "name": "stdout",
     "output_type": "stream",
     "text": [
      "[0, 2, 4, 6, 8, 10]\n",
      "[0, 1, 4, 9, 16, 25]\n"
     ]
    }
   ],
   "source": [
    "# The first 6 multiples of two\n",
    "my_list = [2*x for x in range(6)]\n",
    "print(my_list)\n",
    "# The first 6 square numbers\n",
    "my_list = [x*x for x in range(6)]\n",
    "print(my_list)"
   ]
  },
  {
   "cell_type": "markdown",
   "metadata": {},
   "source": [
    "The ```condition``` expression is optional, and can be any expressoin which evaluates to true or false.\n",
    "\n",
    "For example:"
   ]
  },
  {
   "cell_type": "code",
   "execution_count": 3,
   "metadata": {},
   "outputs": [
    {
     "name": "stdout",
     "output_type": "stream",
     "text": [
      "[0, 2, 4, 6, 8, 10]\n",
      "[0, 1, 2, 3, 4, 5, 6, 7, 8, 9]\n",
      "[0, 1, 2, 10]\n",
      "[1, 3, 5, 15, 23, 69, 115, 345]\n"
     ]
    }
   ],
   "source": [
    "my_list = [x for x in range(12) if x%2 == 0] # Only allow multiples of two to be passed to <expression>\n",
    "print(my_list)\n",
    "\n",
    "my_list = [x for x in range(12) if x < 10] # Only allow values of x less then 10 to be passed to <expression>\n",
    "print(my_list)\n",
    "\n",
    "from random import randint\n",
    "my_list = [x for x in range(12) if randint(0,1)==1] # Randomly allow values into the list\n",
    "print(my_list)\n",
    "\n",
    "number = 345\n",
    "divisors = [x for x in range(1,number + 1) if number%x==0] # only allow divisors of number into the list\n",
    "# This will create a list of all the divisors of number\n",
    "print(divisors)"
   ]
  },
  {
   "cell_type": "markdown",
   "metadata": {},
   "source": [
    "## Manipulation\n"
   ]
  },
  {
   "cell_type": "markdown",
   "metadata": {},
   "source": [
    "### Slicing\n",
    "\n",
    "Lists can be 'sliced', taking only a piece of the list. The struture for slicing is:\n",
    "```python\n",
    "my_list[<start>:<stop>:<step>]\n",
    "```\n",
    "where:\n",
    "|Symbol   |Meaning                                                                      |\n",
    "|--------:|:----------------------------------------------------------------------------|\n",
    "|\\<start\\>| Where to begin the slice (if omitted, defaults to the beginning of the list)|\n",
    "|\\<stop\\> | Where to end the slice (defaults to the end of the list)                    |\n",
    "|\\<step\\> | The step to take between sliced values (defaults to 1)                      |\n",
    "\n",
    "These are all valid slices of a list:\n",
    "```python\n",
    "my_list[::] # Returns a copy of the whole list\n",
    "my_list[:]  # Same effect\n",
    "my_list[3:] # Starts at index 3 and ends at the end of the list\n",
    "my_list[:3] # Starts at the beginning and ends at 2 (non-inclusive)\n",
    "my_list[::2]# Takes every second value from the list, starting with the first (i.e. indexes 0, 2, 4, ...)\n",
    "```\n",
    "For example:"
   ]
  },
  {
   "cell_type": "code",
   "execution_count": 4,
   "metadata": {},
   "outputs": [
    {
     "name": "stdout",
     "output_type": "stream",
     "text": [
      "[1, 2, 3]\n",
      "[4, 5, 6, 7, 8, 9, 10]\n",
      "[1, 3, 5, 7, 9]\n"
     ]
    }
   ],
   "source": [
    "# whole numbers from 1 - 10 inculsive\n",
    "my_list = [x+1 for x in range(10)]\n",
    "\n",
    "print(my_list[:3])\n",
    "print(my_list[3:])\n",
    "print(my_list[::2])"
   ]
  },
  {
   "cell_type": "markdown",
   "metadata": {},
   "source": [
    "Slices can also have negative parameters. These operate 'in reverse'. For the ```start``` and ```stop``` parameters, the count backwards from the end of the list, and for the ```step``` parameter it will read the list backwards using that step.\n",
    "For example:"
   ]
  },
  {
   "cell_type": "code",
   "execution_count": 5,
   "metadata": {},
   "outputs": [
    {
     "name": "stdout",
     "output_type": "stream",
     "text": [
      "[1, 2, 3, 4, 5, 6, 7]\n",
      "[8, 9, 10]\n",
      "[10, 9, 8, 7, 6, 5, 4, 3, 2, 1]\n"
     ]
    }
   ],
   "source": [
    "# whole numbers from 1 - 10 inculsive\n",
    "my_list = [x+1 for x in range(10)]\n",
    "\n",
    "print(my_list[:-3])  # From the beginning until the *fourth*-last item\n",
    "print(my_list[-3:])  # From the third-last item to the end\n",
    "print(my_list[::-1]) # The list is reversed"
   ]
  },
  {
   "cell_type": "markdown",
   "metadata": {},
   "source": [
    "### Mapping\n",
    "\n",
    "Values in a list can be *mapped* to new values using the ```map()``` function. The map fucntion takes a function and an iterable and returns a new iterable, where each element of the old list hav had the function applied to them. The returned iterable *is not a list*, but acts similarly to one, adn can be tunred into a proper list using ```list()```.\n",
    "\n",
    "For example, applying the ```int()``` function to a list of strings:"
   ]
  },
  {
   "cell_type": "code",
   "execution_count": 6,
   "metadata": {},
   "outputs": [
    {
     "name": "stdout",
     "output_type": "stream",
     "text": [
      "<class 'str'> ['1', '2', '3', '4', '5']\n",
      "<class 'int'> [1, 2, 3, 4, 5]\n"
     ]
    }
   ],
   "source": [
    "old_list = [\"1\", \"2\", \"3\", \"4\", \"5\"]\n",
    "print(type(old_list[0]), old_list)\n",
    "\n",
    "new_list = list(map(int, old_list))\n",
    "print(type(new_list[0]), new_list)"
   ]
  },
  {
   "cell_type": "markdown",
   "metadata": {},
   "source": [
    "The process is something like this:\n",
    "\n",
    "$\\begin{aligned}\n",
    "\\overset{\\text{old\\_list}}{\n",
    "\\begin{bmatrix}\n",
    "'1'\\\\\n",
    "'2'\\\\\n",
    "'3'\\\\\n",
    "'4'\\\\\n",
    "'5'\\\\\n",
    "\\end{bmatrix}}\n",
    "\\mapsto\n",
    "\\begin{bmatrix}\n",
    "\\mathrm{int}('1')\\\\\n",
    "\\mathrm{int}('2')\\\\\n",
    "\\mathrm{int}('3')\\\\\n",
    "\\mathrm{int}('4')\\\\\n",
    "\\mathrm{int}('5')\\\\\n",
    "\\end{bmatrix}\n",
    "\\mapsto\n",
    "\\overset{\\text{new\\_list}}{\\begin{bmatrix}\n",
    "1\\\\\n",
    "2\\\\\n",
    "3\\\\\n",
    "4\\\\\n",
    "5\\\\\n",
    "\\end{bmatrix}}\n",
    "\\end{aligned}$\n",
    "\n",
    "The function used must take exactly one argument, as only one argument *at a time* will be passed to it."
   ]
  }
 ],
 "metadata": {
  "kernelspec": {
   "display_name": "Python 3.10.7 64-bit",
   "language": "python",
   "name": "python3"
  },
  "language_info": {
   "codemirror_mode": {
    "name": "ipython",
    "version": 3
   },
   "file_extension": ".py",
   "mimetype": "text/x-python",
   "name": "python",
   "nbconvert_exporter": "python",
   "pygments_lexer": "ipython3",
   "version": "3.10.7"
  },
  "vscode": {
   "interpreter": {
    "hash": "11f4a0e78a349ca45f4a5927a3f7bcfe77e5bc2d0279dc8f6f2c668752771856"
   }
  }
 },
 "nbformat": 4,
 "nbformat_minor": 2
}