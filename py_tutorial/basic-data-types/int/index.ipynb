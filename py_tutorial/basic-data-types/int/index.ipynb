{
 "cells": [
  {
   "cell_type": "markdown",
   "metadata": {},
   "source": [
    "# Integers (```int```)\n",
    "\n",
    "Integers are the simplest datatype in python. They represent any whole number.\n",
    " "
   ]
  },
  {
   "cell_type": "code",
   "execution_count": 1,
   "metadata": {},
   "outputs": [
    {
     "name": "stdout",
     "output_type": "stream",
     "text": [
      "10\n",
      "10\n"
     ]
    }
   ],
   "source": [
    "x = 10\n",
    "print(x)\n",
    "x = int(\"10\")\n",
    "print(x)"
   ]
  },
  {
   "cell_type": "markdown",
   "metadata": {},
   "source": [
    "Many int operations will endup returning a float, especially division using the 'true division' operator (```/```). To ensure data remains an int , use the 'floor division' operator (```//```)."
   ]
  },
  {
   "cell_type": "markdown",
   "metadata": {},
   "source": [
    "## Common Operations\n",
    "\n",
    "Integers don't have many useful methods, as they are much simpler than most other data types. however, there are several tricks that can be used to manipulate them."
   ]
  },
  {
   "cell_type": "markdown",
   "metadata": {},
   "source": [
    "### Get a list of digits\n",
    "\n",
    "This casts the ```int``` to a ```str```, then converts the ```str``` to a ```list```."
   ]
  },
  {
   "cell_type": "code",
   "execution_count": 3,
   "metadata": {},
   "outputs": [
    {
     "name": "stdout",
     "output_type": "stream",
     "text": [
      "['4', '6', '3', '8', '2']\n",
      "23\n"
     ]
    }
   ],
   "source": [
    "x = 46382\n",
    "# Convert to a list\n",
    "digits = list(str(x))\n",
    "print(digits)\n",
    "sum_digits = 0\n",
    "for digit in digits:\n",
    "    # digits in the list are stored as strings, and so must be converted into ints\n",
    "    sum_digits += int(digit)\n",
    "print(sum_digits)"
   ]
  }
 ],
 "metadata": {
  "kernelspec": {
   "display_name": "Python 3.10.7 64-bit",
   "language": "python",
   "name": "python3"
  },
  "language_info": {
   "codemirror_mode": {
    "name": "ipython",
    "version": 3
   },
   "file_extension": ".py",
   "mimetype": "text/x-python",
   "name": "python",
   "nbconvert_exporter": "python",
   "pygments_lexer": "ipython3",
   "version": "3.10.7"
  },
  "orig_nbformat": 4,
  "vscode": {
   "interpreter": {
    "hash": "11f4a0e78a349ca45f4a5927a3f7bcfe77e5bc2d0279dc8f6f2c668752771856"
   }
  }
 },
 "nbformat": 4,
 "nbformat_minor": 2
}
